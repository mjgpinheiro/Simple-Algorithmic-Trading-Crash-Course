{
  "nbformat": 4,
  "nbformat_minor": 0,
  "metadata": {
    "colab": {
      "provenance": [],
      "authorship_tag": "ABX9TyMrXSNvjImWcWJCMQilKFRq",
      "include_colab_link": true
    },
    "kernelspec": {
      "name": "python3",
      "display_name": "Python 3"
    },
    "language_info": {
      "name": "python"
    }
  },
  "cells": [
    {
      "cell_type": "markdown",
      "metadata": {
        "id": "view-in-github",
        "colab_type": "text"
      },
      "source": [
        "<a href=\"https://colab.research.google.com/github/mjgpinheiro/Simple-Algorithmic-Trading-Crash-course/blob/main/Make_an_API_Call.ipynb\" target=\"_parent\"><img src=\"https://colab.research.google.com/assets/colab-badge.svg\" alt=\"Open In Colab\"/></a>"
      ]
    },
    {
      "cell_type": "code",
      "execution_count": 1,
      "metadata": {
        "colab": {
          "base_uri": "https://localhost:8080/"
        },
        "id": "ZckpvCYqnxta",
        "outputId": "3c2c5094-65d5-4642-f845-c5c441d55a01"
      },
      "outputs": [
        {
          "output_type": "stream",
          "name": "stdout",
          "text": [
            "python3: can't open file 'Make': [Errno 2] No such file or directory\n",
            "{'avgTotalVolume': 25647247, 'calculationPrice': 'close', 'change': 1.62, 'changePercent': 0.01763, 'close': 93, 'closeSource': 'iocliaff', 'closeTime': 1735090888339, 'companyName': 'Alphabet Inc - Class C', 'currency': 'USD', 'delayedPrice': 92.23, 'delayedPriceTime': 1693744453456, 'extendedChange': -0.169, 'extendedChangePercent': -0.0019, 'extendedPrice': 90.927, 'extendedPriceTime': 1690016074308, 'high': 93, 'highSource': ' atdeyie1d5u peermnl ic', 'highTime': 1709257145945, 'iexAskPrice': None, 'iexAskSize': None, 'iexBidPrice': None, 'iexBidSize': None, 'iexClose': 93.47, 'iexCloseTime': 1694827430894, 'iexLastUpdated': None, 'iexMarketPercent': None, 'iexOpen': 90.53, 'iexOpenTime': 1716838394174, 'iexRealtimePrice': None, 'iexRealtimeSize': None, 'iexVolume': None, 'lastTradeTime': 1723642609610, 'latestPrice': 91.47, 'latestSource': 'Close', 'latestTime': 'December 23, 2022', 'latestUpdate': 1672990037406, 'latestVolume': 18620667, 'low': 89.11, 'lowSource': 'ntepe  m1ei5caied rudyl', 'lowTime': 1729030448168, 'marketCap': 1085301744051, 'oddLotDelayedPrice': 93.31, 'oddLotDelayedPriceTime': 1721815917223, 'open': 89.11, 'openTime': 1704514207390, 'openSource': 'iiocfafl', 'peRatio': None, 'previousClose': 89.32, 'previousVolume': 24604130, 'primaryExchange': 'NAQASD', 'symbol': 'GOOG', 'volume': 17933134, 'week52High': 157.6, 'week52Low': 84.44, 'ytdChange': -0.363014000380514, 'isUSMarketOpen': False}\n"
          ]
        },
        {
          "output_type": "execute_result",
          "data": {
            "text/plain": [
              "{'avgTotalVolume': 25647247,\n",
              " 'calculationPrice': 'close',\n",
              " 'change': 1.62,\n",
              " 'changePercent': 0.01763,\n",
              " 'close': 93,\n",
              " 'closeSource': 'iocliaff',\n",
              " 'closeTime': 1735090888339,\n",
              " 'companyName': 'Alphabet Inc - Class C',\n",
              " 'currency': 'USD',\n",
              " 'delayedPrice': 92.23,\n",
              " 'delayedPriceTime': 1693744453456,\n",
              " 'extendedChange': -0.169,\n",
              " 'extendedChangePercent': -0.0019,\n",
              " 'extendedPrice': 90.927,\n",
              " 'extendedPriceTime': 1690016074308,\n",
              " 'high': 93,\n",
              " 'highSource': ' atdeyie1d5u peermnl ic',\n",
              " 'highTime': 1709257145945,\n",
              " 'iexAskPrice': None,\n",
              " 'iexAskSize': None,\n",
              " 'iexBidPrice': None,\n",
              " 'iexBidSize': None,\n",
              " 'iexClose': 93.47,\n",
              " 'iexCloseTime': 1694827430894,\n",
              " 'iexLastUpdated': None,\n",
              " 'iexMarketPercent': None,\n",
              " 'iexOpen': 90.53,\n",
              " 'iexOpenTime': 1716838394174,\n",
              " 'iexRealtimePrice': None,\n",
              " 'iexRealtimeSize': None,\n",
              " 'iexVolume': None,\n",
              " 'lastTradeTime': 1723642609610,\n",
              " 'latestPrice': 91.47,\n",
              " 'latestSource': 'Close',\n",
              " 'latestTime': 'December 23, 2022',\n",
              " 'latestUpdate': 1672990037406,\n",
              " 'latestVolume': 18620667,\n",
              " 'low': 89.11,\n",
              " 'lowSource': 'ntepe  m1ei5caied rudyl',\n",
              " 'lowTime': 1729030448168,\n",
              " 'marketCap': 1085301744051,\n",
              " 'oddLotDelayedPrice': 93.31,\n",
              " 'oddLotDelayedPriceTime': 1721815917223,\n",
              " 'open': 89.11,\n",
              " 'openTime': 1704514207390,\n",
              " 'openSource': 'iiocfafl',\n",
              " 'peRatio': None,\n",
              " 'previousClose': 89.32,\n",
              " 'previousVolume': 24604130,\n",
              " 'primaryExchange': 'NAQASD',\n",
              " 'symbol': 'GOOG',\n",
              " 'volume': 17933134,\n",
              " 'week52High': 157.6,\n",
              " 'week52Low': 84.44,\n",
              " 'ytdChange': -0.363014000380514,\n",
              " 'isUSMarketOpen': False}"
            ]
          },
          "metadata": {},
          "execution_count": 1
        }
      ],
      "source": [
        "# -*- coding: utf-8 -*-\n",
        "!python Make an API Call.py\n",
        "\"\"\"Build an Equal-Weight S&P 500 Index Fund.ipynb\n",
        "\n",
        "Automatically generated by Colaboratory.\n",
        "\n",
        "Original file is located at\n",
        "    https://colab.research.google.com/drive/1zVAguryCfEjqGaN75WkMlZDNG7SSYJGu\n",
        "\n",
        "https://colab.research.google.com/\n",
        "\"\"\"\n",
        "\n",
        "import requests \n",
        "\n",
        "symbol = \"GOOG\"\n",
        "\n",
        "IEX_CLOUD_API_TOKEN = \"Tpk_303eba2884a34a0e937ec42ab848532a\"\n",
        "\n",
        "api_url = f\"https://sandbox.iexapis.com/stable/stock/{symbol}/quote?token={IEX_CLOUD_API_TOKEN}\"\n",
        "\n",
        "data = requests.get(api_url).json()\n",
        "\n",
        "print(data)\n",
        "\n",
        "data"
      ]
    }
  ]
}